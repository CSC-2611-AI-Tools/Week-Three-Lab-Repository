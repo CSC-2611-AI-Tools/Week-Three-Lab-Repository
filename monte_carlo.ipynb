{
 "cells": [
  {
   "cell_type": "markdown",
   "id": "653abcc0-68c6-40fc-93fb-10abcd72f08a",
   "metadata": {
    "collapsed": true,
    "jupyter": {
     "outputs_hidden": true
    }
   },
   "source": [
    "# The Birthday Probability Lab\n",
    "In this lab, a program should be developed where within a group size of 23, there should be a 50% chance that two people would share the same birthday. We create a monte carlo simulation to perform a large number of experiments and determine the ratio of successes to the overall number. \n",
    "\n",
    "The experiments need to be stochastic in nature, which mean they can have different outcomes and the outcomes are distributed randomly among all possible outcomes according to a distribution function. Hence, if we run N experiments, and observer how many times a particular outcome of interest in observed M, we can estimate the probability of that outcome ocurring is M / N."
   ]
  },
  {
   "cell_type": "markdown",
   "id": "17ed8401-3d94-4673-99c4-57784620acba",
   "metadata": {},
   "source": [
    "### Importing Random Library\n",
    "The `random` library in Python provides functions for generating random numbers and selecting random elements from sequences. For this Jupyter Notbeook, we will be using the random library to generate random numbers that will be used for simulations and generating group sizes."
   ]
  },
  {
   "cell_type": "code",
   "execution_count": 1,
   "id": "19752e30-96a4-4628-b8a7-a23510364a88",
   "metadata": {},
   "outputs": [],
   "source": [
    "import random"
   ]
  },
  {
   "cell_type": "markdown",
   "id": "b9488bf3-9d7e-4c18-800e-392b02e97a2f",
   "metadata": {},
   "source": [
    "### Generate the Gorup Size of Birthday\n",
    "In this method, we instantiate a empty list of birthdays. We then use a for loop to generate a birthday number and then add it to the list. We then return that list at the end of the function. "
   ]
  },
  {
   "cell_type": "code",
   "execution_count": 2,
   "id": "43cbfb21-6d46-4a6d-b90d-a84ffd9d7a64",
   "metadata": {},
   "outputs": [],
   "source": [
    "def generate_group_size_birthdays(group_size=100):\n",
    "    \"\"\"\n",
    "    method for generating a list of birthdays for group sizes\n",
    "    :param group_size:\n",
    "    :return: list of birthdays\n",
    "    \"\"\"\n",
    "\n",
    "    birthday_list = []\n",
    "\n",
    "    for i in range(group_size):\n",
    "        birthday_list.append((random.randint(1, 365)))\n",
    "\n",
    "    return birthday_list"
   ]
  },
  {
   "cell_type": "markdown",
   "id": "94c028d2-cd26-42f1-a191-a083b7e258a9",
   "metadata": {},
   "source": [
    "### Computing the Probability\n",
    "In this method, we caluclate the probability of two people having the same birthday. We start off by initiating a count for the number of people who have the same birthday. We then for loop through a number of simulations, where we generate a list of birthdays, where the number of birthdays is kept constant. Next, we turn the list into a set and then compare if the length of the list and the length of the set are the same.\n",
    "\n",
    "If not, this implies that there are duplicates, hence we incremenet the count of duplicates by one. After the for loop, we calculate the probability by dividing the count of duplicates with the number of simulations. "
   ]
  },
  {
   "cell_type": "code",
   "execution_count": 3,
   "id": "f7b0d932-e763-4318-b663-0d3dfdc72220",
   "metadata": {},
   "outputs": [],
   "source": [
    "def compute_probability(user_group_size=23, number_of_simulation=1000):\n",
    "    \"\"\"\n",
    "    method for computing the probability of 2 people sharing the same birthday\n",
    "    :param user_group_size:\n",
    "    :param number_of_simulation:\n",
    "    :return: the probability value\n",
    "    \"\"\"\n",
    "\n",
    "    duplicate_count = 0\n",
    "    for i in range(0, number_of_simulation):\n",
    "        birthday_list_sample = generate_group_size_birthdays(user_group_size)\n",
    "        if len(birthday_list_sample) != len(set(birthday_list_sample)):\n",
    "            duplicate_count = duplicate_count + 1\n",
    "    probability_calculation = duplicate_count / number_of_simulation\n",
    "    print(\"The probability of a group size of\", user_group_size, \"having a common birthday is\",\n",
    "          round(probability_calculation, 2))\n",
    "    return probability_calculation"
   ]
  },
  {
   "cell_type": "markdown",
   "id": "d2085d85-481d-4cad-a8ed-a7a796c72ba4",
   "metadata": {},
   "source": [
    "### Smallest Group Size\n",
    "In this method, we set up a experimental_group_size variable, setting it to 1, and the experimental_probability variable, where we set it to 0. Next, we use a while loop, where we set the condition to be less than 0.5. \n",
    "\n",
    "While the experimental probability is less than 0.5, we call the compute_probability() method with its parameters, and we keep repeating this until the group size is greater than 0.5. Once the condition is satisfied, we then return the smallest group size at which the probability is greater than 50%"
   ]
  },
  {
   "cell_type": "code",
   "execution_count": 4,
   "id": "0820e1bb-13b0-438a-89c7-156f81d72c04",
   "metadata": {},
   "outputs": [],
   "source": [
    "def smallest_group_size(number_of_simulation=1000):\n",
    "    \"\"\"\n",
    "    method to compute the smallest group size that has a probability of greater than 50%\n",
    "    of two people sharing the same birthday\n",
    "    :return the probability value:\n",
    "    \"\"\"\n",
    "    experimental_group_size = 1\n",
    "    experimental_probability = 0\n",
    "    while experimental_probability < 0.5:\n",
    "        experimental_probability = compute_probability(len(generate_group_size_birthdays(experimental_group_size)),\n",
    "                                                       number_of_simulation)\n",
    "        experimental_group_size = experimental_group_size + 1\n",
    "    return experimental_group_size"
   ]
  },
  {
   "cell_type": "markdown",
   "id": "a400bac2-5bb2-4159-a10a-7843c4dc2528",
   "metadata": {},
   "source": [
    "### Method Calls\n",
    "Here, we call the methods computer_probability() and smallest_group_size()"
   ]
  },
  {
   "cell_type": "code",
   "execution_count": 5,
   "id": "98074770-c3e7-4861-a2d7-ea7d248acac5",
   "metadata": {},
   "outputs": [
    {
     "name": "stdout",
     "output_type": "stream",
     "text": [
      "The probability of a group size of 23 having a common birthday is 0.51\n",
      "0.514\n",
      "The probability of a group size of 1 having a common birthday is 0.0\n",
      "The probability of a group size of 2 having a common birthday is 0.0\n",
      "The probability of a group size of 3 having a common birthday is 0.01\n",
      "The probability of a group size of 4 having a common birthday is 0.02\n",
      "The probability of a group size of 5 having a common birthday is 0.03\n",
      "The probability of a group size of 6 having a common birthday is 0.04\n",
      "The probability of a group size of 7 having a common birthday is 0.05\n",
      "The probability of a group size of 8 having a common birthday is 0.07\n",
      "The probability of a group size of 9 having a common birthday is 0.09\n",
      "The probability of a group size of 10 having a common birthday is 0.11\n",
      "The probability of a group size of 11 having a common birthday is 0.14\n",
      "The probability of a group size of 12 having a common birthday is 0.17\n",
      "The probability of a group size of 13 having a common birthday is 0.2\n",
      "The probability of a group size of 14 having a common birthday is 0.23\n",
      "The probability of a group size of 15 having a common birthday is 0.25\n",
      "The probability of a group size of 16 having a common birthday is 0.31\n",
      "The probability of a group size of 17 having a common birthday is 0.3\n",
      "The probability of a group size of 18 having a common birthday is 0.37\n",
      "The probability of a group size of 19 having a common birthday is 0.39\n",
      "The probability of a group size of 20 having a common birthday is 0.42\n",
      "The probability of a group size of 21 having a common birthday is 0.44\n",
      "The probability of a group size of 22 having a common birthday is 0.51\n",
      "23\n",
      "The probability of a group size of 50 having a common birthday is 0.97\n",
      "0.97\n",
      "The probability of a group size of 1 having a common birthday is 0.0\n",
      "The probability of a group size of 2 having a common birthday is 0.0\n",
      "The probability of a group size of 3 having a common birthday is 0.01\n",
      "The probability of a group size of 4 having a common birthday is 0.01\n",
      "The probability of a group size of 5 having a common birthday is 0.03\n",
      "The probability of a group size of 6 having a common birthday is 0.04\n",
      "The probability of a group size of 7 having a common birthday is 0.05\n",
      "The probability of a group size of 8 having a common birthday is 0.07\n",
      "The probability of a group size of 9 having a common birthday is 0.1\n",
      "The probability of a group size of 10 having a common birthday is 0.11\n",
      "The probability of a group size of 11 having a common birthday is 0.14\n",
      "The probability of a group size of 12 having a common birthday is 0.18\n",
      "The probability of a group size of 13 having a common birthday is 0.19\n",
      "The probability of a group size of 14 having a common birthday is 0.23\n",
      "The probability of a group size of 15 having a common birthday is 0.25\n",
      "The probability of a group size of 16 having a common birthday is 0.28\n",
      "The probability of a group size of 17 having a common birthday is 0.31\n",
      "The probability of a group size of 18 having a common birthday is 0.32\n",
      "The probability of a group size of 19 having a common birthday is 0.36\n",
      "The probability of a group size of 20 having a common birthday is 0.41\n",
      "The probability of a group size of 21 having a common birthday is 0.45\n",
      "The probability of a group size of 22 having a common birthday is 0.48\n",
      "The probability of a group size of 23 having a common birthday is 0.53\n",
      "24\n"
     ]
    }
   ],
   "source": [
    "print(compute_probability())\n",
    "print(smallest_group_size())\n",
    "print(compute_probability(50, 500))\n",
    "print(smallest_group_size(2000))"
   ]
  },
  {
   "cell_type": "markdown",
   "id": "927892a8-bc11-430f-bea0-f267dc2c214a",
   "metadata": {},
   "source": [
    "### Calling the Help Method\n",
    "Here, we call the help() method to retrieve the docstring behind the method smallest_group_size()"
   ]
  },
  {
   "cell_type": "code",
   "execution_count": 6,
   "id": "93e69f56-848e-4069-8cce-8575e7bad8e0",
   "metadata": {},
   "outputs": [
    {
     "name": "stdout",
     "output_type": "stream",
     "text": [
      "Help on function smallest_group_size in module __main__:\n",
      "\n",
      "smallest_group_size(number_of_simulation=1000)\n",
      "    method to compute the smallest group size that has a probability of greater than 50%\n",
      "    of two people sharing the same birthday\n",
      "    :return the probability value:\n",
      "\n"
     ]
    }
   ],
   "source": [
    "help(smallest_group_size)"
   ]
  },
  {
   "cell_type": "markdown",
   "id": "3ccacf01-17b1-488b-8cfd-071e0311192d",
   "metadata": {},
   "source": [
    "### Benchmarking of Methods using Local PC vs ROSIE Supercomputer\n",
    "Here, we do benchmarking by using `%%time`. We use this to find the longest running cell, and then compare the run times on the local coputer and the ROSIE supercomputer. We then come up a explanation as to why the runtimes are different."
   ]
  },
  {
   "cell_type": "code",
   "execution_count": 7,
   "id": "c7f189df-d9dc-4e29-9311-8761f3290db2",
   "metadata": {},
   "outputs": [
    {
     "name": "stdout",
     "output_type": "stream",
     "text": [
      "CPU times: total: 0 ns\n",
      "Wall time: 1.01 ms\n"
     ]
    }
   ],
   "source": [
    "%%time\n",
    "list = generate_group_size_birthdays()"
   ]
  },
  {
   "cell_type": "code",
   "execution_count": 8,
   "id": "a241ff88-94a2-4bab-8a5b-49ab481db2bb",
   "metadata": {},
   "outputs": [
    {
     "name": "stdout",
     "output_type": "stream",
     "text": [
      "The probability of a group size of 23 having a common birthday is 0.52\n",
      "CPU times: total: 0 ns\n",
      "Wall time: 29 ms\n"
     ]
    }
   ],
   "source": [
    "%%time\n",
    "benchmark_probability = compute_probability()"
   ]
  },
  {
   "cell_type": "code",
   "execution_count": 9,
   "id": "e57fc69c-77a7-44e7-b5a4-792d810fe51d",
   "metadata": {},
   "outputs": [
    {
     "name": "stdout",
     "output_type": "stream",
     "text": [
      "The probability of a group size of 1 having a common birthday is 0.0\n",
      "The probability of a group size of 2 having a common birthday is 0.0\n",
      "The probability of a group size of 3 having a common birthday is 0.01\n",
      "The probability of a group size of 4 having a common birthday is 0.01\n",
      "The probability of a group size of 5 having a common birthday is 0.03\n",
      "The probability of a group size of 6 having a common birthday is 0.03\n",
      "The probability of a group size of 7 having a common birthday is 0.05\n",
      "The probability of a group size of 8 having a common birthday is 0.07\n",
      "The probability of a group size of 9 having a common birthday is 0.08\n",
      "The probability of a group size of 10 having a common birthday is 0.12\n",
      "The probability of a group size of 11 having a common birthday is 0.14\n",
      "The probability of a group size of 12 having a common birthday is 0.18\n",
      "The probability of a group size of 13 having a common birthday is 0.21\n",
      "The probability of a group size of 14 having a common birthday is 0.22\n",
      "The probability of a group size of 15 having a common birthday is 0.25\n",
      "The probability of a group size of 16 having a common birthday is 0.26\n",
      "The probability of a group size of 17 having a common birthday is 0.32\n",
      "The probability of a group size of 18 having a common birthday is 0.34\n",
      "The probability of a group size of 19 having a common birthday is 0.39\n",
      "The probability of a group size of 20 having a common birthday is 0.4\n",
      "The probability of a group size of 21 having a common birthday is 0.44\n",
      "The probability of a group size of 22 having a common birthday is 0.44\n",
      "The probability of a group size of 23 having a common birthday is 0.53\n",
      "CPU times: total: 31.2 ms\n",
      "Wall time: 202 ms\n"
     ]
    }
   ],
   "source": [
    "%%time\n",
    "small_group_size = smallest_group_size()"
   ]
  },
  {
   "cell_type": "markdown",
   "id": "4c7fa159-64db-4f23-8711-5893a58c5db8",
   "metadata": {},
   "source": [
    "### Benchmarking Reuslts for PC\n",
    "It is evident to see that the longest running cell is the cell that contains the method smallest_group_size() as shown below:\n",
    "\n",
    "Here are the benchmarking reuslts for PC as follows:\n",
    "- for generate_group_size_birthdays(), the runtime is 1.01 ms\n",
    "- for compute_probability(), the runtime is 29 ms\n",
    "- for smallest_group_size(), the runtime is 202 ms\n",
    "\n",
    "Here are the benchmarking results for ROSIE as follows:\n",
    "- for generate_group_size_birthdays(), the runtime is 269 microseconds\n",
    "- for compute_probability(), the runtime is  28.8 ms\n",
    "- for smallest_group_size(), the runtime is 244 ms\n",
    "\n",
    "Here, we can see that the PC performs faster than the ROSIE supercomputer. This is because a PC can perform better than a supercomputer in terms of job scheduling and and performing non-parrllelizable workloads. Thus, this makes the PC have a faster runtime, althought initially it would be thought that the supercomputer would perform better. Furthermore, supercomputers run jobs through a scheduler, which queues tasks based on availability of reources. And even if resources are available, the queueing might cause delays."
   ]
  },
  {
   "cell_type": "markdown",
   "id": "602f63df-f887-43f0-aa86-4acda4300a57",
   "metadata": {},
   "source": [
    "### Lab Questions \n",
    "1. What is the probability of a group of size 20 that atleast one pair has the same birthday?\n",
    "2. What is the smallest group size to have a probability of greater than 50% that two people share the same birthday?\n",
    "3. What changes do you observe in the results as you increase the value of N?"
   ]
  },
  {
   "cell_type": "code",
   "execution_count": 10,
   "id": "47c4464f-f3d5-4826-9c5b-c7305ec677a4",
   "metadata": {},
   "outputs": [
    {
     "name": "stdout",
     "output_type": "stream",
     "text": [
      "The probability of a group size of 20 having a common birthday is 0.42\n"
     ]
    },
    {
     "data": {
      "text/plain": [
       "0.421"
      ]
     },
     "execution_count": 10,
     "metadata": {},
     "output_type": "execute_result"
    }
   ],
   "source": [
    "compute_probability(20)"
   ]
  },
  {
   "cell_type": "code",
   "execution_count": 11,
   "id": "5deeb58a-532b-453b-bba3-0a44db2069a7",
   "metadata": {},
   "outputs": [
    {
     "name": "stdout",
     "output_type": "stream",
     "text": [
      "The probability of a group size of 1 having a common birthday is 0.0\n",
      "The probability of a group size of 2 having a common birthday is 0.0\n",
      "The probability of a group size of 3 having a common birthday is 0.01\n",
      "The probability of a group size of 4 having a common birthday is 0.02\n",
      "The probability of a group size of 5 having a common birthday is 0.03\n",
      "The probability of a group size of 6 having a common birthday is 0.03\n",
      "The probability of a group size of 7 having a common birthday is 0.06\n",
      "The probability of a group size of 8 having a common birthday is 0.08\n",
      "The probability of a group size of 9 having a common birthday is 0.09\n",
      "The probability of a group size of 10 having a common birthday is 0.11\n",
      "The probability of a group size of 11 having a common birthday is 0.14\n",
      "The probability of a group size of 12 having a common birthday is 0.13\n",
      "The probability of a group size of 13 having a common birthday is 0.19\n",
      "The probability of a group size of 14 having a common birthday is 0.21\n",
      "The probability of a group size of 15 having a common birthday is 0.28\n",
      "The probability of a group size of 16 having a common birthday is 0.28\n",
      "The probability of a group size of 17 having a common birthday is 0.33\n",
      "The probability of a group size of 18 having a common birthday is 0.37\n",
      "The probability of a group size of 19 having a common birthday is 0.39\n",
      "The probability of a group size of 20 having a common birthday is 0.41\n",
      "The probability of a group size of 21 having a common birthday is 0.45\n",
      "The probability of a group size of 22 having a common birthday is 0.49\n",
      "The probability of a group size of 23 having a common birthday is 0.5\n",
      "The probability of a group size of 24 having a common birthday is 0.54\n"
     ]
    },
    {
     "data": {
      "text/plain": [
       "25"
      ]
     },
     "execution_count": 11,
     "metadata": {},
     "output_type": "execute_result"
    }
   ],
   "source": [
    "smallest_group_size()"
   ]
  },
  {
   "cell_type": "code",
   "execution_count": 12,
   "id": "df9b82dc-df80-4ad0-8f75-14afcbfc2648",
   "metadata": {},
   "outputs": [
    {
     "name": "stdout",
     "output_type": "stream",
     "text": [
      "The probability of a group size of 1 having a common birthday is 0.0\n",
      "The probability of a group size of 2 having a common birthday is 0.0\n",
      "The probability of a group size of 3 having a common birthday is 0.01\n",
      "The probability of a group size of 4 having a common birthday is 0.02\n",
      "The probability of a group size of 5 having a common birthday is 0.03\n",
      "The probability of a group size of 6 having a common birthday is 0.04\n",
      "The probability of a group size of 7 having a common birthday is 0.05\n",
      "The probability of a group size of 8 having a common birthday is 0.08\n",
      "The probability of a group size of 9 having a common birthday is 0.09\n",
      "The probability of a group size of 10 having a common birthday is 0.11\n",
      "The probability of a group size of 11 having a common birthday is 0.14\n",
      "The probability of a group size of 12 having a common birthday is 0.17\n",
      "The probability of a group size of 13 having a common birthday is 0.19\n",
      "The probability of a group size of 14 having a common birthday is 0.22\n",
      "The probability of a group size of 15 having a common birthday is 0.26\n",
      "The probability of a group size of 16 having a common birthday is 0.27\n",
      "The probability of a group size of 17 having a common birthday is 0.32\n",
      "The probability of a group size of 18 having a common birthday is 0.34\n",
      "The probability of a group size of 19 having a common birthday is 0.37\n",
      "The probability of a group size of 20 having a common birthday is 0.41\n",
      "The probability of a group size of 21 having a common birthday is 0.44\n",
      "The probability of a group size of 22 having a common birthday is 0.48\n",
      "The probability of a group size of 23 having a common birthday is 0.5\n"
     ]
    },
    {
     "data": {
      "text/plain": [
       "24"
      ]
     },
     "execution_count": 12,
     "metadata": {},
     "output_type": "execute_result"
    }
   ],
   "source": [
    "smallest_group_size(10000)"
   ]
  },
  {
   "cell_type": "code",
   "execution_count": 13,
   "id": "e46c1a6a-db04-42e6-9aac-84490f08d9f0",
   "metadata": {},
   "outputs": [
    {
     "name": "stdout",
     "output_type": "stream",
     "text": [
      "The probability of a group size of 1 having a common birthday is 0.0\n",
      "The probability of a group size of 2 having a common birthday is 0.0\n",
      "The probability of a group size of 3 having a common birthday is 0.01\n",
      "The probability of a group size of 4 having a common birthday is 0.02\n",
      "The probability of a group size of 5 having a common birthday is 0.03\n",
      "The probability of a group size of 6 having a common birthday is 0.04\n",
      "The probability of a group size of 7 having a common birthday is 0.06\n",
      "The probability of a group size of 8 having a common birthday is 0.07\n",
      "The probability of a group size of 9 having a common birthday is 0.09\n",
      "The probability of a group size of 10 having a common birthday is 0.12\n",
      "The probability of a group size of 11 having a common birthday is 0.14\n",
      "The probability of a group size of 12 having a common birthday is 0.17\n",
      "The probability of a group size of 13 having a common birthday is 0.19\n",
      "The probability of a group size of 14 having a common birthday is 0.22\n",
      "The probability of a group size of 15 having a common birthday is 0.25\n",
      "The probability of a group size of 16 having a common birthday is 0.28\n",
      "The probability of a group size of 17 having a common birthday is 0.32\n",
      "The probability of a group size of 18 having a common birthday is 0.35\n",
      "The probability of a group size of 19 having a common birthday is 0.38\n",
      "The probability of a group size of 20 having a common birthday is 0.41\n",
      "The probability of a group size of 21 having a common birthday is 0.45\n",
      "The probability of a group size of 22 having a common birthday is 0.48\n",
      "The probability of a group size of 23 having a common birthday is 0.5\n"
     ]
    },
    {
     "data": {
      "text/plain": [
       "24"
      ]
     },
     "execution_count": 13,
     "metadata": {},
     "output_type": "execute_result"
    }
   ],
   "source": [
    "smallest_group_size(100000)"
   ]
  },
  {
   "cell_type": "markdown",
   "id": "b78d6ab3-c5cd-48f5-a7e7-e7b1afa12f44",
   "metadata": {},
   "source": [
    "### Responses to Lab Questions\n",
    "1. The probability of a group of size of 20 that has atleast one pair which has the same birthday is 0.42\n",
    "2. The smallest group size to have a probability of greater than 50% that two people share the same birthday is 24, given that the number of simulations is 1000\n",
    "3. As the number of simulations is increased to 10000 and 100000, we can see that the smallest group size stays consists at 24"
   ]
  },
  {
   "cell_type": "markdown",
   "id": "884e6cda-a729-4427-89e9-4de637feed04",
   "metadata": {},
   "source": [
    "### Conclusion\n",
    "To conclude, when we set the group size of birthdays to 20 birthdays, we find the probability of atleast two people having the same birthdays to be 0.42, given that the number of simulations is at 1000. When we run the `smallest_group_size()` method to find the smallest group size, we set the number of simulations to 1000, and we found that the size of the group should be 24, and no matter the increase in the number of simulations, the number 24 stays constant. \n",
    "\n",
    "This is known as the Birthday Paradox. The Birthday Paradox, states that in a group of people the probability of two individuals sharing the same birthday which exceeds 50% is 24. We set the threshold for the probability calculations where the probability must be greater than 0.5. No matter by how much we increase the number of simulations, the number is always 24, which means the program is consistent and robust, and isn't erroenous, given the testing with increasing numbers of simulations."
   ]
  }
 ],
 "metadata": {
  "kernelspec": {
   "display_name": "Python 3 (ipykernel)",
   "language": "python",
   "name": "python3"
  },
  "language_info": {
   "codemirror_mode": {
    "name": "ipython",
    "version": 3
   },
   "file_extension": ".py",
   "mimetype": "text/x-python",
   "name": "python",
   "nbconvert_exporter": "python",
   "pygments_lexer": "ipython3",
   "version": "3.11.9"
  }
 },
 "nbformat": 4,
 "nbformat_minor": 5
}
